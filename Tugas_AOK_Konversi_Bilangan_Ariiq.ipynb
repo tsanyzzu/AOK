{
  "nbformat": 4,
  "nbformat_minor": 0,
  "metadata": {
    "colab": {
      "provenance": [],
      "authorship_tag": "ABX9TyOL+8gkF6fSZeYZS9I7a2KN",
      "include_colab_link": true
    },
    "kernelspec": {
      "name": "python3",
      "display_name": "Python 3"
    },
    "language_info": {
      "name": "python"
    }
  },
  "cells": [
    {
      "cell_type": "markdown",
      "metadata": {
        "id": "view-in-github",
        "colab_type": "text"
      },
      "source": [
        "<a href=\"https://colab.research.google.com/github/tsanyzzu/AOK/blob/main/Tugas_AOK_Konversi_Bilangan_Ariiq.ipynb\" target=\"_parent\"><img src=\"https://colab.research.google.com/assets/colab-badge.svg\" alt=\"Open In Colab\"/></a>"
      ]
    },
    {
      "cell_type": "code",
      "source": [
        "# Nama  : Ariiq Tsany Zu\n",
        "# NIM   : 235150200111049\n",
        "# Kelas : TIF - E\n",
        "\n",
        "menu = ['Biner ke Desimal', 'Desimal ke Biner', 'Biner ke Hexa', 'Hexa ke Biner', 'Desimal ke Hexa', 'Hexa ke Desimal']\n",
        "\n",
        "while True:\n",
        "    print('Konversi Bilangan')\n",
        "    for i in range(0, len(menu), 1):\n",
        "        print(f'{i+1}. {menu[i]}')\n",
        "\n",
        "    pilihan = input('Masukkan pilihan anda: ')\n",
        "    if pilihan == '1':\n",
        "        x = input(\"Masukkan bilangan biner: \")\n",
        "        x_desimal = int(x, 2)\n",
        "        print(\"Bilangan biner\", x, \"dalam desimal adalah\", x_desimal)\n",
        "        break\n",
        "    elif pilihan == '2':\n",
        "        x = int(input(\"Masukkan bilangan desimal: \"))\n",
        "        print(\"Bilangan desimal\", x, \"dalam biner adalah\", format(x, 'b'))\n",
        "        break\n",
        "    elif pilihan == '3':\n",
        "        def bin_to_hex(nilai_bin):\n",
        "          return hex(int(nilai_bin, 2))\n",
        "        nilai_bin = input(\"Masukkan bilangan biner: \")\n",
        "        hex_result = bin_to_hex(nilai_bin)\n",
        "        print(\"Bilangan biner\", nilai_bin, \"dalam hexadesimal adalah\", hex_result)\n",
        "        break\n",
        "    elif pilihan == '4':\n",
        "        def hex_to_bin(nilai_hex):\n",
        "          return bin(int(nilai_hex, 16))\n",
        "        nilai_hex = input(\"Masukkan bilangan hexadesimal: \")\n",
        "        bin_result = hex_to_bin(nilai_hex)\n",
        "        print(\"Bilangan hexadesimal\", nilai_hex, \"dalam biner adalah\", bin_result)\n",
        "        break\n",
        "    elif pilihan == '5':\n",
        "        x = int(input(\"Masukkan bilangan desimal: \"))\n",
        "        print(\"Bilangan desimal\", x, \"dalam hexadesimal adalah\", format(x, \"x\"))\n",
        "        break\n",
        "    elif pilihan == '6':\n",
        "        x = input(\"Masukkan bilangan hexadesimal: \")\n",
        "        print(\"Bilangan hexadesimal\", x, \"dalam desimal adalah\", int(x, 16))\n",
        "        break\n",
        "    else:\n",
        "        print(\"Masukkan input sesuai menu...\")"
      ],
      "metadata": {
        "colab": {
          "base_uri": "https://localhost:8080/"
        },
        "id": "KPofXR6q99Yp",
        "outputId": "a9121394-446b-4110-e758-c8c91dfcdaaf"
      },
      "execution_count": null,
      "outputs": [
        {
          "output_type": "stream",
          "name": "stdout",
          "text": [
            "Konversi Bilangan\n",
            "1. Biner ke Desimal\n",
            "2. Desimal ke Biner\n",
            "3. Biner ke Hexa\n",
            "4. Hexa ke Biner\n",
            "5. Desimal ke Hexa\n",
            "6. Hexa ke Desimal\n"
          ]
        }
      ]
    }
  ]
}